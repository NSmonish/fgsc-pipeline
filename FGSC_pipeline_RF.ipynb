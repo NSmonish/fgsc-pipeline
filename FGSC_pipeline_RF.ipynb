{
  "nbformat": 4,
  "nbformat_minor": 0,
  "metadata": {
    "colab": {
      "provenance": [],
      "gpuType": "T4"
    },
    "kernelspec": {
      "name": "python3",
      "display_name": "Python 3"
    },
    "language_info": {
      "name": "python"
    },
    "accelerator": "GPU"
  },
  "cells": [
    {
      "cell_type": "markdown",
      "source": [
        "# Fractal Geometry-based Spectral Classification (FGSC) on SDSS DR18 Dataset using standard RF Model\n"
      ],
      "metadata": {
        "id": "r_82BsKrpdbN"
      }
    },
    {
      "cell_type": "markdown",
      "source": [
        "**1) Importing Necessary Libraries**"
      ],
      "metadata": {
        "id": "sdqne8q0plZ3"
      }
    },
    {
      "cell_type": "code",
      "source": [
        "import pandas as pd\n",
        "import numpy as np\n",
        "import matplotlib.pyplot as plt\n",
        "from scipy import signal\n",
        "from sklearn.preprocessing import StandardScaler, LabelEncoder\n",
        "from sklearn.model_selection import train_test_split\n",
        "from sklearn.metrics import classification_report, confusion_matrix, accuracy_score\n",
        "from sklearn.utils.class_weight import compute_class_weight\n",
        "from xgboost import XGBClassifier\n",
        "import seaborn as sns\n",
        "import tensorflow as tf\n",
        "from tensorflow.keras import layers, models\n",
        "from ripser import ripser\n",
        "import umap.umap_ as umap\n",
        "import warnings\n",
        "warnings.filterwarnings('ignore')"
      ],
      "metadata": {
        "id": "xj4zqBLCGajX"
      },
      "execution_count": null,
      "outputs": []
    },
    {
      "cell_type": "markdown",
      "source": [
        "**2) Preprocessing SDSS Dataset**"
      ],
      "metadata": {
        "id": "Oiy7QA-hpozT"
      }
    },
    {
      "cell_type": "code",
      "source": [
        "df = pd.read_csv('SDSS_DR18.csv')\n",
        "print(f\"Dataset shape: {df.shape}\")\n",
        "\n",
        "feature_cols = [col for col in df.columns if col not in ['class', 'specobjid', 'objid']]\n",
        "spectral_features = df[feature_cols].values\n",
        "labels = df['class'].values if 'class' in df.columns else None\n",
        "\n",
        "scaler = StandardScaler()\n",
        "spectral_features_normalized = scaler.fit_transform(spectral_features)\n",
        "label_encoder = LabelEncoder()\n",
        "labels_encoded = label_encoder.fit_transform(labels)"
      ],
      "metadata": {
        "colab": {
          "base_uri": "https://localhost:8080/"
        },
        "id": "O7xQICEXGkVK",
        "outputId": "f6a72bab-13a3-4ed8-9a08-84073a73ffeb"
      },
      "execution_count": null,
      "outputs": [
        {
          "output_type": "stream",
          "name": "stdout",
          "text": [
            "Dataset shape: (100000, 43)\n"
          ]
        }
      ]
    },
    {
      "cell_type": "markdown",
      "source": [
        "**3) Fractal Feature Extraction**"
      ],
      "metadata": {
        "id": "-vbNa_g5pvvE"
      }
    },
    {
      "cell_type": "code",
      "source": [
        "def box_counting_dimension(signal_1d, min_box_size=2, max_box_size=None):\n",
        "    if max_box_size is None:\n",
        "        max_box_size = len(signal_1d) // 4\n",
        "    box_sizes = np.logspace(np.log10(min_box_size), np.log10(max_box_size), 10, dtype=int)\n",
        "    box_counts = []\n",
        "    for box_size in box_sizes:\n",
        "        n_boxes = len(signal_1d) // box_size\n",
        "        boxes = signal_1d[:n_boxes * box_size].reshape(-1, box_size)\n",
        "        non_empty_boxes = np.sum(np.abs(boxes).max(axis=1) > 1e-6)\n",
        "        box_counts.append(non_empty_boxes)\n",
        "    coeffs = np.polyfit(np.log(box_sizes), np.log(box_counts), 1)\n",
        "    return -coeffs[0]\n",
        "\n",
        "def higuchi_fractal_dimension(signal_1d, k_max=10):\n",
        "    N = len(signal_1d)\n",
        "    L = np.zeros(k_max)\n",
        "    for k in range(1, k_max + 1):\n",
        "        Lm = np.zeros(k)\n",
        "        valid_m_count = 0\n",
        "        for m in range(1, k + 1):\n",
        "            maxI = int(np.floor((N - m) / k))\n",
        "            if maxI <= 0:\n",
        "                continue\n",
        "            Lmk = sum(abs(signal_1d[m + i * k - 1] - signal_1d[m + (i - 1) * k - 1]) for i in range(1, maxI + 1))\n",
        "            Lmk *= (N - 1) / (maxI * k**2)\n",
        "            Lm[m - 1] = Lmk\n",
        "            valid_m_count += 1\n",
        "        L[k - 1] = np.mean(Lm[Lm != 0]) if valid_m_count > 0 else 0\n",
        "    valid_indices = L > 0\n",
        "    if np.sum(valid_indices) < 2:\n",
        "        return 0\n",
        "    x = np.log(np.arange(1, k_max+1)[valid_indices])\n",
        "    y = np.log(L[valid_indices])\n",
        "    coeffs = np.polyfit(x, y, 1)\n",
        "    return -coeffs[0]\n",
        "\n",
        "def multi_scale_fractal_analysis(signal_1d, scales=[2, 4, 8, 16]):\n",
        "    return np.array([higuchi_fractal_dimension(signal.decimate(signal_1d, scale, ftype='iir', zero_phase=True)) for scale in scales])\n",
        "\n",
        "def extract_fractal_features(data_matrix):\n",
        "    features = []\n",
        "    for i in range(data_matrix.shape[0]):\n",
        "        sample = data_matrix[i]\n",
        "        bcd = box_counting_dimension(sample)\n",
        "        hfd = higuchi_fractal_dimension(sample)\n",
        "        msfa = multi_scale_fractal_analysis(sample)\n",
        "        features.append(np.concatenate([[bcd, hfd], msfa]))\n",
        "    return np.array(features)\n",
        "\n",
        "fractal_features = extract_fractal_features(spectral_features_normalized)"
      ],
      "metadata": {
        "id": "1d4rgVgQHXNq"
      },
      "execution_count": null,
      "outputs": []
    },
    {
      "cell_type": "markdown",
      "source": [
        "**4) Topological Data Analysis**"
      ],
      "metadata": {
        "id": "UVrMEpOSp1bH"
      }
    },
    {
      "cell_type": "code",
      "source": [
        "def extract_persistence_summary(diagram):\n",
        "    if len(diagram) == 0:\n",
        "        return [0, 0, 0]\n",
        "    lifetimes = diagram[:, 1] - diagram[:, 0]\n",
        "    return [np.mean(lifetimes), np.max(lifetimes), np.sum(lifetimes)]\n",
        "\n",
        "tda_features = []\n",
        "for i in range(spectral_features_normalized.shape[0]):\n",
        "    dgm = ripser(spectral_features_normalized[i:i+1], maxdim=1)['dgms']\n",
        "    h0 = extract_persistence_summary(dgm[0])\n",
        "    h1 = extract_persistence_summary(dgm[1])\n",
        "    tda_features.append(h0 + h1)\n",
        "tda_features = np.array(tda_features)\n",
        "\n",
        "combined_features = np.hstack((spectral_features_normalized, fractal_features, tda_features))\n",
        "combined_features = np.nan_to_num(combined_features, nan=0.0, posinf=0.0, neginf=0.0)"
      ],
      "metadata": {
        "id": "mrJKCW3BHa7H"
      },
      "execution_count": null,
      "outputs": []
    },
    {
      "cell_type": "markdown",
      "source": [
        "**5) Train Test Split**"
      ],
      "metadata": {
        "id": "crm7aV6wp3wV"
      }
    },
    {
      "cell_type": "code",
      "source": [
        "# Data integrity checks\n",
        "print(\"NaNs in features:\", np.isnan(combined_features).sum())\n",
        "print(\"Infs in features:\", np.isinf(combined_features).sum())\n",
        "print(\"All-zero features:\", np.all(combined_features == 0, axis=0).sum())\n",
        "\n",
        "# Train-test split 80/20\n",
        "X_train, X_test, y_train, y_test = train_test_split(combined_features, labels_encoded, test_size=0.2, random_state=42)"
      ],
      "metadata": {
        "colab": {
          "base_uri": "https://localhost:8080/"
        },
        "id": "vo3UoA68OmdZ",
        "outputId": "e0d26bd6-9caa-4fd5-a86a-45b0cc145b5c"
      },
      "execution_count": null,
      "outputs": [
        {
          "output_type": "stream",
          "name": "stdout",
          "text": [
            "NaNs in features: 0\n",
            "Infs in features: 0\n",
            "All-zero features: 7\n"
          ]
        }
      ]
    },
    {
      "cell_type": "markdown",
      "source": [
        "**6) Handling Class Imbalance**"
      ],
      "metadata": {
        "id": "uaXImfDLqGK-"
      }
    },
    {
      "cell_type": "code",
      "source": [
        "class_weights = compute_class_weight(class_weight='balanced',\n",
        "                                     classes=np.unique(labels_encoded),\n",
        "                                     y=labels_encoded)\n",
        "class_weight_dict = dict(enumerate(class_weights))"
      ],
      "metadata": {
        "id": "MvKa6F4GqFnl"
      },
      "execution_count": null,
      "outputs": []
    },
    {
      "cell_type": "markdown",
      "source": [
        "**7) Random Forest Model**"
      ],
      "metadata": {
        "id": "5fHQ_RrxqBgU"
      }
    },
    {
      "cell_type": "code",
      "source": [
        "from sklearn.ensemble import RandomForestClassifier\n",
        "\n",
        "rf = RandomForestClassifier(n_estimators=200, random_state=42)\n",
        "rf.fit(X_train, y_train)\n",
        "rf_preds = rf.predict(X_test)\n",
        "\n",
        "print(\"Random Forest Accuracy:\", accuracy_score(y_test, rf_preds))\n",
        "print(classification_report(y_test, rf_preds))\n",
        "sns.heatmap(confusion_matrix(y_test, rf_preds), annot=True, fmt='d', cmap='Greens')\n",
        "plt.title(\"Random Forest Confusion Matrix\")\n",
        "plt.show()"
      ],
      "metadata": {
        "colab": {
          "base_uri": "https://localhost:8080/",
          "height": 648
        },
        "id": "ciK6PXR4SZmK",
        "outputId": "b6f9795f-c36b-4a1d-ea41-4a1351f6907a"
      },
      "execution_count": null,
      "outputs": [
        {
          "output_type": "stream",
          "name": "stdout",
          "text": [
            "Random Forest Accuracy: 0.9912\n",
            "              precision    recall  f1-score   support\n",
            "\n",
            "           0       0.99      0.99      0.99     10373\n",
            "           1       0.99      0.96      0.97      2115\n",
            "           2       0.99      1.00      1.00      7512\n",
            "\n",
            "    accuracy                           0.99     20000\n",
            "   macro avg       0.99      0.98      0.99     20000\n",
            "weighted avg       0.99      0.99      0.99     20000\n",
            "\n"
          ]
        },
        {
          "output_type": "display_data",
          "data": {
            "text/plain": [
              "<Figure size 640x480 with 2 Axes>"
            ],
            "image/png": "[encoded data removed]"
          },
          "metadata": {}
        }
      ]
    }
  ]
}